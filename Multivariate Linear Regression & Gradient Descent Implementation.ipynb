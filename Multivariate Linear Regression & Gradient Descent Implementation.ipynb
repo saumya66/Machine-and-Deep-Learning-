{
 "cells": [
  {
   "cell_type": "markdown",
   "metadata": {},
   "source": [
    "<h1>Multivariate Linear Regression and Gradient Descent Implementation </h1>\n",
    "\n",
    "Hi, there I am Saumya and in this notebook we I have implemented Multiple Variable Linear Regression and Gradient Descent from scratch and have given explaination of every step and line . <br>\n",
    "\n",
    "<b>I hope you have a great time going through it !! ✔️</b>"
   ]
  },
  {
   "cell_type": "code",
   "execution_count": 26,
   "metadata": {},
   "outputs": [],
   "source": [
    "import matplotlib.pyplot as plt \n",
    "import numpy as np \n",
    "import pandas as pd "
   ]
  },
  {
   "cell_type": "code",
   "execution_count": 27,
   "metadata": {},
   "outputs": [
    {
     "data": {
      "text/html": [
       "<div>\n",
       "<style scoped>\n",
       "    .dataframe tbody tr th:only-of-type {\n",
       "        vertical-align: middle;\n",
       "    }\n",
       "\n",
       "    .dataframe tbody tr th {\n",
       "        vertical-align: top;\n",
       "    }\n",
       "\n",
       "    .dataframe thead th {\n",
       "        text-align: right;\n",
       "    }\n",
       "</style>\n",
       "<table border=\"1\" class=\"dataframe\">\n",
       "  <thead>\n",
       "    <tr style=\"text-align: right;\">\n",
       "      <th></th>\n",
       "      <th>0</th>\n",
       "      <th>1</th>\n",
       "      <th>2</th>\n",
       "    </tr>\n",
       "  </thead>\n",
       "  <tbody>\n",
       "    <tr>\n",
       "      <th>0</th>\n",
       "      <td>2104</td>\n",
       "      <td>3</td>\n",
       "      <td>399900</td>\n",
       "    </tr>\n",
       "    <tr>\n",
       "      <th>1</th>\n",
       "      <td>1600</td>\n",
       "      <td>3</td>\n",
       "      <td>329900</td>\n",
       "    </tr>\n",
       "    <tr>\n",
       "      <th>2</th>\n",
       "      <td>2400</td>\n",
       "      <td>3</td>\n",
       "      <td>369000</td>\n",
       "    </tr>\n",
       "    <tr>\n",
       "      <th>3</th>\n",
       "      <td>1416</td>\n",
       "      <td>2</td>\n",
       "      <td>232000</td>\n",
       "    </tr>\n",
       "    <tr>\n",
       "      <th>4</th>\n",
       "      <td>3000</td>\n",
       "      <td>4</td>\n",
       "      <td>539900</td>\n",
       "    </tr>\n",
       "  </tbody>\n",
       "</table>\n",
       "</div>"
      ],
      "text/plain": [
       "      0  1       2\n",
       "0  2104  3  399900\n",
       "1  1600  3  329900\n",
       "2  2400  3  369000\n",
       "3  1416  2  232000\n",
       "4  3000  4  539900"
      ]
     },
     "execution_count": 27,
     "metadata": {},
     "output_type": "execute_result"
    }
   ],
   "source": [
    "data= pd.read_csv('multLinRData.txt', header=None )\n",
    "data.head()"
   ]
  },
  {
   "cell_type": "markdown",
   "metadata": {},
   "source": [
    "Here we used pandas to read our text file and used the 'head' function to see the first 5 entries of our data ."
   ]
  },
  {
   "cell_type": "code",
   "execution_count": 28,
   "metadata": {},
   "outputs": [
    {
     "data": {
      "image/png": "[encoded data removed]",
      "text/plain": [
       "<Figure size 864x288 with 2 Axes>"
      ]
     },
     "metadata": {
      "needs_background": "light"
     },
     "output_type": "display_data"
    }
   ],
   "source": [
    "fig,axes= plt.subplots(figsize=(12,4),nrows=1, ncols=2 )\n",
    "axes[0].scatter(data[0],data[2])\n",
    "axes[0].set_xlabel(\"Size\")\n",
    "axes[0].set_ylabel(\"Price\")\n",
    "axes[0].set_title(\"Size-Price Plot\")\n",
    "\n",
    "axes[1].scatter(data[1],data[2],color='b')\n",
    "axes[1].set_xlabel(\"No. of Rooms \")\n",
    "axes[1].set_ylabel(\"Price\")\n",
    "axes[1].set_title(\"No. of Rooms - Price Plot\")\n",
    "\n",
    "plt.tight_layout()"
   ]
  },
  {
   "cell_type": "markdown",
   "metadata": {},
   "source": [
    "Line 1: Here we use the 'subplots' function that would store multiple graphs in sort of an array i.e here \n",
    "        axes .So, you can see we have set the no. of rows=1 and no. of columns =2 i.e like setting a 2D array of 1x2 \n",
    "        dimension and as you can see we have two plot in each columns of the only row . \n",
    "        Thus, the first plot & second plot are referred to as axes[0] and axes[1] resplectively .<br>\n",
    "        \n",
    "Line 2&7: This sees the data and plots the blue dots that you see in a scattering format as the name suggests .<br>\n",
    "\n",
    "Line 3,4 & 8,9: Just label the graph.<br>\n",
    "\n",
    "Line 5 & 10 : Adds the title .<br>\n",
    "\n",
    "Line 12 : This fits the multiple graphs in the figure area.<br>\n",
    "\n",
    "This StackOverflow answer may help : [Link](https://stackoverflow.com/questions/34162443/why-do-many-examples-use-fig-ax-plt-subplots-in-matplotlib-pyplot-python)\n",
    "\n",
    "        "
   ]
  },
  {
   "cell_type": "code",
   "execution_count": 29,
   "metadata": {},
   "outputs": [],
   "source": [
    "def CostFunction(X,y,theta):\n",
    "    m= len(y)\n",
    "    J= 1/(2*m)*np.sum((X.dot(theta)-y)**2)        \n",
    "    return J"
   ]
  },
  {
   "cell_type": "markdown",
   "metadata": {},
   "source": [
    "<b>Cost Function :</b>\n",
    "<br>\n",
    "\n",
    "This is the function that takes in the input array(X) and output array(y) and parameter(theta) and then computes the Cost Function Formula that we had learnt in my [ML WEEK 1 BLOG](https://www.thecsengineer.com/2020/12/learning-machine-learning-course-week-1-andrewng.html).\n",
    "![](https://render.githubusercontent.com/render/math?math=J%28%5CTheta%29%20%3D%20%5Cfrac%7B1%7D%7B2m%7D%20%28X%5CTheta%20-%20%5Coverrightarrow%7By%7D%29%5ET%20%28X%5CTheta%20-%20%5Coverrightarrow%7By%7D%29&mode=inline)"
   ]
  },
  {
   "cell_type": "code",
   "execution_count": 30,
   "metadata": {},
   "outputs": [],
   "source": [
    "\n",
    "def GradientDescent(X, y, theta, learningRate , iterations):\n",
    "    m= len(y)\n",
    "    J_list =[]\n",
    "    for i in range(iterations):\n",
    "        theta = theta - (learningRate*(1/m)*(X.transpose().dot(X.dot(theta)-y)))\n",
    "        J_list.append(CostFunction(X,y,theta))\n",
    "    return theta,J_list    "
   ]
  },
  {
   "cell_type": "markdown",
   "metadata": {},
   "source": [
    "<b>Gradient Descent on Linear Regression Function :</b>\n",
    "<br>\n",
    "\n",
    "Here we implement the formula of Gradient Descent that I had explained in the [BLOG]((https://www.thecsengineer.com/2020/12/learning-machine-learning-course-week-1-andrewng.html)) so the funtions takes X, y , theta , Learning rate and the number of iterations as the parameter .<br>\n",
    "Inside we maintain a list of all the cost functions according to the varying theta in every iterations for visualising the descent later . "
   ]
  },
  {
   "cell_type": "code",
   "execution_count": 31,
   "metadata": {},
   "outputs": [],
   "source": [
    "def FeatureNormalization(X):\n",
    "    mean = np.mean(X,axis=0)\n",
    "    stdDev= np.std(X,axis=0)\n",
    "    X_Normalized= (X-mean)/stdDev\n",
    "    return X_Normalized"
   ]
  },
  {
   "cell_type": "markdown",
   "metadata": {},
   "source": [
    "<b>Fearture Normalization Function :</b>\n",
    "<br>\n",
    "\n",
    "This function normalizes or minimizes our input data to a small range that would make Gradient descent faster .<br>\n",
    "\n",
    "We do that by updating every value of a feature by substracting the mean of all the values of a feature from each of the value and dividing the answer by the standard deviation (max value - min value of the particular feature)\n",
    "![hi](https://render.githubusercontent.com/render/math?math=x_i%20%3D%20%5Cfrac%7Bx_i%20-%20%5Cmu_i%7D%7B%5Csigma_i%7D&mode=inline)"
   ]
  },
  {
   "cell_type": "code",
   "execution_count": 32,
   "metadata": {},
   "outputs": [
    {
     "data": {
      "text/plain": [
       "65591548106.45744"
      ]
     },
     "execution_count": 32,
     "metadata": {},
     "output_type": "execute_result"
    }
   ],
   "source": [
    "data_arr= data.values\n",
    "m=len(data_arr[:,-1])\n",
    "X = data_arr[:,0:2].reshape(m,2)\n",
    "y= data_arr[:,-1].reshape(m,1)\n",
    "Norm_X= FeatureNormalization(X)\n",
    "Norm_X= np.append(np.ones((m,1)),Norm_X,axis=1)\n",
    "theta= np.zeros((3,1))\n",
    "\n",
    "CostFunction(Norm_X,y, theta)"
   ]
  },
  {
   "cell_type": "markdown",
   "metadata": {},
   "source": [
    "Line 1 : We extract the data into a dataframe , think it just as a table which hold a copy of our data .<br>\n",
    "\n",
    "Line 2 : We get the number of training examples i,e the no. of rows .<br>\n",
    "\n",
    "Line 3 : Here we store the inputs in a separate array i.e X which is of mx2 dimension.<br>\n",
    "\n",
    "Line 4 : Here we store the outputs in a separate array i.e y which is of mx1 dimension.<br>\n",
    "\n",
    "Line 5 : Here we call the Feature Normalization function i.e normalizes the input data.<br>\n",
    "\n",
    "Line 6 : Here we add an additional row of 1s in the front row and the X matrix becomes mx3 dimension.<br>\n",
    "\n",
    "Line 7 : Here we create the theta array which is just a 3x1 matrix of zeroes.\n",
    "\n",
    "Line 8 : Here we call the function that gives us the cost function ."
   ]
  },
  {
   "cell_type": "code",
   "execution_count": 33,
   "metadata": {},
   "outputs": [
    {
     "name": "stdout",
     "output_type": "stream",
     "text": [
      "h(x) = 340412.66 + 109447.8x1 + -6578.35x2 \n"
     ]
    }
   ],
   "source": [
    "opt_theta , J_List= GradientDescent(Norm_X,y,theta,0.1,400)\n",
    "print(\"h(x) = \"+str(round(opt_theta[0,0],2))+\" + \"+str(round(opt_theta[1,0],2))+\"x1 + \"+str(round(opt_theta[2,0],2))+\"x2 \" )"
   ]
  },
  {
   "cell_type": "markdown",
   "metadata": {},
   "source": [
    "Line 1 : Here we just call the functiona with th appropriate values like learning rate = 0.1 and number of iterations = 400          we get back the global minimum theta (opt_theta) and the list of cost functions .<br>\n",
    "\n",
    "Line 2 : Here we use the obtaines optimal theta and display the <b>Multivariate Hypothesis Function<b> .\n"
   ]
  },
  {
   "cell_type": "code",
   "execution_count": 34,
   "metadata": {},
   "outputs": [
    {
     "data": {
      "text/plain": [
       "Text(0.5, 1.0, 'Cost function using Gradient Descent')"
      ]
     },
     "execution_count": 34,
     "metadata": {},
     "output_type": "execute_result"
    },
    {
     "data": {
      "image/png": "[encoded data removed]",
      "text/plain": [
       "<Figure size 432x288 with 1 Axes>"
      ]
     },
     "metadata": {
      "needs_background": "light"
     },
     "output_type": "display_data"
    }
   ],
   "source": [
    "plt.plot(J_List)\n",
    "plt.xlabel(\"Iteration\")\n",
    "plt.ylabel(\"$J(\\Theta)$\")\n",
    "plt.title(\"Cost function using Gradient Descent\")"
   ]
  },
  {
   "cell_type": "markdown",
   "metadata": {},
   "source": [
    "   <b>Cost Function vs Iteration Plot<b>"
   ]
  },
  {
   "cell_type": "code",
   "execution_count": 35,
   "metadata": {},
   "outputs": [],
   "source": [
    "def Predict(x, theta ):\n",
    "    prediction = theta.transpose().dot(x)\n",
    "    return prediction[0]"
   ]
  },
  {
   "attachments": {},
   "cell_type": "markdown",
   "metadata": {},
   "source": [
    "<b>Prediction Function</b>\n",
    "<br>\n",
    "    \n",
    "This functions gives the prediction according to the formula :\n",
    "![](https://render.githubusercontent.com/render/math?math=h_%5CTheta%28x%29%20%3D%20%5CTheta%5ETx&mode=inline)"
   ]
  },
  {
   "cell_type": "code",
   "execution_count": 36,
   "metadata": {},
   "outputs": [
    {
     "name": "stdout",
     "output_type": "stream",
     "text": [
      "We predict that for the size 1650 and the no. of rooms 3 there will be a profit of  $456439.0\n"
     ]
    }
   ],
   "source": [
    "\n",
    "x_sample = FeatureNormalization(np.array([1650,3])) \n",
    "x_sample=np.append(np.ones(1),x_sample)\n",
    "predict3=Predict(x_sample,opt_theta)\n",
    "print(\"We predict that for the size 1650 and the no. of rooms 3 there will be a profit of \"+\" $\"+str(round(predict3,0)))"
   ]
  },
  {
   "cell_type": "markdown",
   "metadata": {},
   "source": [
    "<h3>Thank You , I hope you had a good time learning and if found it helpful you can Fork 🍴, Star 🌟 or Watch 👀 the \n",
    "    Repository🧡<h3>"
   ]
  }
 ],
 "metadata": {
  "kernelspec": {
   "display_name": "Python 3",
   "language": "python",
   "name": "python3"
  },
  "language_info": {
   "codemirror_mode": {
    "name": "ipython",
    "version": 3
   },
   "file_extension": ".py",
   "mimetype": "text/x-python",
   "name": "python",
   "nbconvert_exporter": "python",
   "pygments_lexer": "ipython3",
   "version": "3.8.5"
  }
 },
 "nbformat": 4,
 "nbformat_minor": 4
}
